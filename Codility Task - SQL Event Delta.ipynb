{
 "cells": [
  {
   "cell_type": "markdown",
   "id": "fc65e94e",
   "metadata": {},
   "source": [
    "# Task\n",
    "Given a table events with the following structure:\n",
    "\n",
    "create table events ( event_type integer not null, value integer not null, time timestamp not null, unique(event_type, time) ); write an SQL query that, for each event_type that has been registered more than once, returns the difference between the latest (i.e. the most recent in terms of time) and the second latest value. The table should be ordered by event_type (in ascending order).\n",
    "\n",
    "For example, given the following data:\n",
    "\n",
    "    event_type | value | time \n",
    "    ------------+------------+-------------------- \n",
    "         2     |   5   | 2015-05-09 12:42:00 \n",
    "         4     |  -42  | 2015-05-09 13:19:57 \n",
    "         2     |   2   | 2015-05-09 14:48:30 \n",
    "         2     |   7   | 2015-05-09 12:54:39 \n",
    "         3     |   16  | 2015-05-09 13:19:57 \n",
    "         3     |   20  | 2015-05-09 15:01:09 \n",
    "    \n",
    "your query should return the following rowset:\n",
    "\n",
    "    event_type | value \n",
    "    ------------+----------- \n",
    "         2     | -5 \n",
    "         3     |  4 \n",
    "    \n",
    "For the event_type 2, the latest value is 2 and the second latest value is 7, so the difference between them is −5.\n",
    "The names of the columns in the rowset don't matter, but their order does."
   ]
  },
  {
   "cell_type": "code",
   "execution_count": 1,
   "id": "192d0ad3",
   "metadata": {},
   "outputs": [],
   "source": [
    "%load_ext sql\n",
    "%sql sqlite://"
   ]
  },
  {
   "cell_type": "code",
   "execution_count": 5,
   "id": "a6063f76",
   "metadata": {},
   "outputs": [
    {
     "name": "stdout",
     "output_type": "stream",
     "text": [
      " * sqlite://\n",
      "Done.\n",
      "6 rows affected.\n"
     ]
    },
    {
     "data": {
      "text/plain": [
       "[]"
      ]
     },
     "execution_count": 5,
     "metadata": {},
     "output_type": "execute_result"
    }
   ],
   "source": [
    "%%sql\n",
    "\n",
    "CREATE TABLE events\n",
    "(\n",
    "      event_type integer not null,\n",
    "      value integer not null,\n",
    "      time timestamp not null,\n",
    "      unique(event_type, time)\n",
    ");\n",
    "INSERT INTO events\n",
    "VALUES (2, 5, '2015-05-09 12:42:00'),\n",
    "       (4, -42, '2015-05-09 13:19:57'),\n",
    "       (2, 2, '2015-05-09 14:48:30'),\n",
    "       (2, 7, '2015-05-09 12:54:39'),\n",
    "       (3, 16, '2015-05-09 13:19:57'),\n",
    "       (3, 20, '2015-05-09 15:01:09');"
   ]
  },
  {
   "cell_type": "code",
   "execution_count": 6,
   "id": "7967eabe",
   "metadata": {},
   "outputs": [
    {
     "name": "stdout",
     "output_type": "stream",
     "text": [
      " * sqlite://\n",
      "Done.\n"
     ]
    },
    {
     "data": {
      "text/html": [
       "<table>\n",
       "    <tr>\n",
       "        <th>event_type</th>\n",
       "        <th>value</th>\n",
       "    </tr>\n",
       "    <tr>\n",
       "        <td>2</td>\n",
       "        <td>-5</td>\n",
       "    </tr>\n",
       "    <tr>\n",
       "        <td>3</td>\n",
       "        <td>4</td>\n",
       "    </tr>\n",
       "</table>"
      ],
      "text/plain": [
       "[(2, -5), (3, 4)]"
      ]
     },
     "execution_count": 6,
     "metadata": {},
     "output_type": "execute_result"
    }
   ],
   "source": [
    "%%sql\n",
    "SELECT e1.event_type, (e1.value - e2.value) AS value FROM\n",
    "events e1\n",
    "JOIN\n",
    "events e2\n",
    "ON\n",
    "e1.event_type = e2.event_type\n",
    "AND\n",
    "e1.time = (SELECT time FROM events temp1 WHERE\n",
    "           temp1.event_type=e1.event_type ORDER BY time DESC LIMIT 1)\n",
    "AND\n",
    "e2.time = (SELECT time FROM events temp2 WHERE\n",
    "           temp2.event_type=e2.event_type ORDER BY time DESC LIMIT 1 OFFSET 1)"
   ]
  }
 ],
 "metadata": {
  "kernelspec": {
   "display_name": "Python 3 (ipykernel)",
   "language": "python",
   "name": "python3"
  },
  "language_info": {
   "codemirror_mode": {
    "name": "ipython",
    "version": 3
   },
   "file_extension": ".py",
   "mimetype": "text/x-python",
   "name": "python",
   "nbconvert_exporter": "python",
   "pygments_lexer": "ipython3",
   "version": "3.7.6"
  }
 },
 "nbformat": 4,
 "nbformat_minor": 5
}
