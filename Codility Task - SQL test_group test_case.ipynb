{
 "cells": [
  {
   "cell_type": "markdown",
   "id": "f7d078ff",
   "metadata": {},
   "source": [
    "# TASK\n",
    "To summarize each group of tests. The result should look like this:\n",
    "\n",
    "    name_of_the_group  |  all_test_cases  |  passed_test_cases  |  total_value\n",
    "    numerical stability          4                    4                 80\n",
    "    memory usage                 3                    2                 20\n",
    "    corner cases                 0                    0                  0\n",
    "    performance                  2                    0                  0"
   ]
  },
  {
   "cell_type": "code",
   "execution_count": 1,
   "id": "c6fbf9e8",
   "metadata": {},
   "outputs": [],
   "source": [
    "%load_ext sql\n",
    "%sql sqlite://"
   ]
  },
  {
   "cell_type": "code",
   "execution_count": 2,
   "id": "00c9fb86",
   "metadata": {},
   "outputs": [
    {
     "name": "stdout",
     "output_type": "stream",
     "text": [
      " * sqlite://\n",
      "Done.\n",
      "Done.\n",
      "4 rows affected.\n",
      "9 rows affected.\n"
     ]
    },
    {
     "data": {
      "text/plain": [
       "[]"
      ]
     },
     "execution_count": 2,
     "metadata": {},
     "output_type": "execute_result"
    }
   ],
   "source": [
    "%%sql\n",
    "create table test_groups (\n",
    "    name varchar(40) not null, \n",
    "    test_value integer not null, \n",
    "    unique(name)\n",
    "  );\n",
    "  \n",
    "  create table test_cases (\n",
    "     id integer not null, \n",
    "     group_name varchar(40) not null, \n",
    "     status varchar(5) not null, \n",
    "     unique(id)\n",
    "  );\n",
    "  \n",
    "  insert into test_groups (name, test_value)\n",
    "  VALUES\n",
    "  ('performance', 15),\n",
    "  ('corner cases', 10), \n",
    "  ('numerical stability', 20), \n",
    "  ('memory usage', 10);\n",
    "  \n",
    "  insert into test_cases (id, group_name, status)\n",
    "  VALUES \n",
    "  (13, 'memory usage', 'OK'),\n",
    "  (14, 'numerical stability', 'OK'),\n",
    "  (15, 'memory usage', 'ERROR'),\n",
    "  (16, 'numerical stability', 'OK'),\n",
    "  (17, 'numerical stability', 'OK'),\n",
    "  (18, 'performance', 'ERROR'),\n",
    "  (19, 'performance', 'ERROR'),\n",
    "  (20, 'memory usage', 'OK'),\n",
    "  (21, 'numerical stability', 'OK');"
   ]
  },
  {
   "cell_type": "code",
   "execution_count": 4,
   "id": "8a809e73",
   "metadata": {},
   "outputs": [
    {
     "name": "stdout",
     "output_type": "stream",
     "text": [
      " * sqlite://\n",
      "Done.\n"
     ]
    },
    {
     "data": {
      "text/html": [
       "<table>\n",
       "    <tr>\n",
       "        <th>name</th>\n",
       "        <th>all_test_cases</th>\n",
       "        <th>passed_test_cases</th>\n",
       "        <th>total_value</th>\n",
       "    </tr>\n",
       "    <tr>\n",
       "        <td>numerical stability</td>\n",
       "        <td>4</td>\n",
       "        <td>4</td>\n",
       "        <td>80</td>\n",
       "    </tr>\n",
       "    <tr>\n",
       "        <td>memory usage</td>\n",
       "        <td>3</td>\n",
       "        <td>2</td>\n",
       "        <td>20</td>\n",
       "    </tr>\n",
       "    <tr>\n",
       "        <td>corner cases</td>\n",
       "        <td>0</td>\n",
       "        <td>0</td>\n",
       "        <td>0</td>\n",
       "    </tr>\n",
       "    <tr>\n",
       "        <td>performance</td>\n",
       "        <td>2</td>\n",
       "        <td>0</td>\n",
       "        <td>0</td>\n",
       "    </tr>\n",
       "</table>"
      ],
      "text/plain": [
       "[('numerical stability', 4, 4, 80),\n",
       " ('memory usage', 3, 2, 20),\n",
       " ('corner cases', 0, 0, 0),\n",
       " ('performance', 2, 0, 0)]"
      ]
     },
     "execution_count": 4,
     "metadata": {},
     "output_type": "execute_result"
    }
   ],
   "source": [
    "%%sql\n",
    "WITH A AS (SELECT group_name AS name, COUNT(status) AS all_test_cases,\n",
    "    SUM(CASE\n",
    "        WHEN status = 'OK' THEN 1\n",
    "        ELSE 0\n",
    "    END) AS passed_test_cases\n",
    "    FROM test_cases\n",
    "    GROUP BY group_name)\n",
    "\n",
    "SELECT g.name, IFNULL(c.all_test_cases,0) AS all_test_cases, IFNULL(c.passed_test_cases,0) AS passed_test_cases, \n",
    "IFNULL(g.test_value*c.passed_test_cases,0) AS total_value\n",
    "FROM test_groups AS g\n",
    "LEFT JOIN A AS c\n",
    "ON g.name = c.name\n",
    "GROUP BY g.name\n",
    "ORDER BY total_value DESC;"
   ]
  }
 ],
 "metadata": {
  "kernelspec": {
   "display_name": "Python 3 (ipykernel)",
   "language": "python",
   "name": "python3"
  },
  "language_info": {
   "codemirror_mode": {
    "name": "ipython",
    "version": 3
   },
   "file_extension": ".py",
   "mimetype": "text/x-python",
   "name": "python",
   "nbconvert_exporter": "python",
   "pygments_lexer": "ipython3",
   "version": "3.7.6"
  }
 },
 "nbformat": 4,
 "nbformat_minor": 5
}
