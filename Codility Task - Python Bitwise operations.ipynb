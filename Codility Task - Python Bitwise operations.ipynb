{
 "cells": [
  {
   "cell_type": "markdown",
   "id": "e8f549c2",
   "metadata": {},
   "source": [
    "# Task\n",
    "A binary gap within a positive integer N is any maximal sequence of consecutive zeros that is surrounded by ones at both ends in the binary representation of N.\n",
    "\n",
    "For example, number 9 has binary representation 1001 and contains a binary gap of length 2. The number 529 has binary representation 1000010001 and contains two binary gaps: one of length 4 and one of length 3. The number 20 has binary representation 10100 and contains one binary gap of length 1. The number 15 has binary representation 1111 and has no binary gaps. The number 32 has binary representation 100000 and has no binary gaps.\n",
    "\n",
    "Write a function:\n",
    "\n",
    "def solution(N)\n",
    "\n",
    "that, given a positive integer N, returns the length of its longest binary gap. The function should return 0 if N doesn't contain a binary gap.\n",
    "\n",
    "For example, given N = 1041 the function should return 5, because N has binary representation 10000010001 and so its longest binary gap is of length 5. Given N = 32 the function should return 0, because N has binary representation '100000' and thus no binary gaps.\n",
    "\n",
    "Write an efficient algorithm for the following assumptions:\n",
    "\n",
    "N is an integer within the range [1..2,147,483,647]."
   ]
  },
  {
   "cell_type": "code",
   "execution_count": 1,
   "id": "41370162",
   "metadata": {},
   "outputs": [
    {
     "name": "stdout",
     "output_type": "stream",
     "text": [
      "Length of zeros in binary gap is: 5\n",
      "Length of zeros in binary gap is: 0\n",
      "Length of zeros in binary gap is: 2\n",
      "Length of zeros in binary gap is: 4\n",
      "Length of zeros in binary gap is: 1\n",
      "Length of zeros in binary gap is: 0\n"
     ]
    }
   ],
   "source": [
    "def solution(N):\n",
    "    A = list(bin(N))\n",
    "    del A[0:2]\n",
    "    B=[idx for idx, value in enumerate(A) if value == '1']\n",
    "    C=[]\n",
    "    if len(B) == 1:\n",
    "        return 0\n",
    "    else:\n",
    "        for i in range(len(B)-1):\n",
    "            C.append(B[i+1]-B[i]-1)\n",
    "        return max(C)\n",
    "\n",
    "print(\"Length of zeros in binary gap is:\", solution(1041))\n",
    "print(\"Length of zeros in binary gap is:\", solution(32))\n",
    "print(\"Length of zeros in binary gap is:\", solution(9))\n",
    "print(\"Length of zeros in binary gap is:\", solution(529))\n",
    "print(\"Length of zeros in binary gap is:\", solution(20))\n",
    "print(\"Length of zeros in binary gap is:\", solution(15))"
   ]
  }
 ],
 "metadata": {
  "kernelspec": {
   "display_name": "Python 3 (ipykernel)",
   "language": "python",
   "name": "python3"
  },
  "language_info": {
   "codemirror_mode": {
    "name": "ipython",
    "version": 3
   },
   "file_extension": ".py",
   "mimetype": "text/x-python",
   "name": "python",
   "nbconvert_exporter": "python",
   "pygments_lexer": "ipython3",
   "version": "3.7.6"
  }
 },
 "nbformat": 4,
 "nbformat_minor": 5
}
