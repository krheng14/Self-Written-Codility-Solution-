{
 "cells": [
  {
   "cell_type": "markdown",
   "id": "b9a9b193",
   "metadata": {},
   "source": [
    "# Task\n",
    "You are given two tables, teams and matches, with the following structures:\n",
    "\n",
    "create table teams ( team_id integer not null, team_name varchar(30) not null, unique(team_id) );\n",
    "\n",
    "create table matches ( match_id integer not null, host_team integer not null, guest_team integer not null, host_goals integer not null, guest_goals integer not null, unique(match_id) ); Each record in the table teams represents a single soccer team. Each record in the table matches represents a finished match between two teams. Teams (host_team, guest_team) are represented by their IDs in the teams table (team_id). No team plays a match against itself. You know the result of each match (that is, the number of goals scored by each team).\n",
    "\n",
    "You would like to compute the total number of points each team has scored after all the matches described in the table. The scoring rules are as follows:\n",
    "\n",
    "If a team wins a match (scores strictly more goals than the other team), it receives three points. If a team draws a match (scores exactly the same number of goals as the opponent), it receives one point. If a team loses a match (scores fewer goals than the opponent), it receives no points. Write an SQL query that returns a ranking of all teams (team_id) described in the table teams. For each team you should provide its name and the number of points it received after all described matches (num_points). The table should be ordered by num_points (in decreasing order). In case of a tie, order the rows by team_id (in increasing order).\n",
    "\n",
    "For example, for:\n",
    "\n",
    "    teams:\n",
    "\n",
    "    team_id | team_name \n",
    "    ---------+--------------- \n",
    "    10 | Give \n",
    "    20 | Never \n",
    "    30 | You \n",
    "    40 | Up \n",
    "    50 | Gonna\n",
    "\n",
    "    matches:\n",
    "\n",
    "    match_id | host_team | guest_team | host_goals | guest_goals \n",
    "    ----------+-----------+------------+------------+------------- \n",
    "    1 | 30 | 20 | 1 | 0 \n",
    "    2 | 10 | 20 | 1 | 2 \n",
    "    3 | 20 | 50 | 2 | 2 \n",
    "    4 | 10 | 30 | 1 | 0 \n",
    "    5 | 30 | 50 | 0 | 1 \n",
    "    \n",
    "your query should return:\n",
    "\n",
    "    team_id | team_name | num_points \n",
    "    ---------+-----------+------------ \n",
    "    20 | Never | 4 \n",
    "    50 | Gonna | 4 \n",
    "    10 | Give  | 3 \n",
    "    30 | You   | 3 \n",
    "    40 | Up    | 0"
   ]
  },
  {
   "cell_type": "code",
   "execution_count": 1,
   "id": "99f82592",
   "metadata": {},
   "outputs": [],
   "source": [
    "%load_ext sql\n",
    "%sql sqlite://"
   ]
  },
  {
   "cell_type": "code",
   "execution_count": 2,
   "id": "3b334a58",
   "metadata": {},
   "outputs": [
    {
     "name": "stdout",
     "output_type": "stream",
     "text": [
      " * sqlite://\n",
      "Done.\n",
      "Done.\n",
      "5 rows affected.\n",
      "5 rows affected.\n"
     ]
    },
    {
     "data": {
      "text/plain": [
       "[]"
      ]
     },
     "execution_count": 2,
     "metadata": {},
     "output_type": "execute_result"
    }
   ],
   "source": [
    "%%sql\n",
    "CREATE TABLE teams\n",
    "(\n",
    "      team_id integer not null,\n",
    "      team_name varchar(30) not null,\n",
    "      unique(team_id)\n",
    ");\n",
    "CREATE TABLE matches\n",
    "(\n",
    "      match_id integer not null,\n",
    "      host_team integer not null,\n",
    "      guest_team integer not null,\n",
    "      host_goals integer not null,\n",
    "      guest_goals integer not null,\n",
    "      unique(match_id)\n",
    ");\n",
    "\n",
    "INSERT INTO teams\n",
    "VALUES (10, 'Give'),\n",
    "       (20, 'Never'),\n",
    "       (30, 'You'),\n",
    "       (40, 'Up'),\n",
    "       (50, 'Gonna');\n",
    "        \n",
    "INSERT INTO matches\n",
    "VALUES (1,30,20,1,0),\n",
    "       (2,10,20,1,2),\n",
    "       (3,20,50,2,2),\n",
    "       (4,10,30,1,0),\n",
    "       (5,30,50,0,1);"
   ]
  },
  {
   "cell_type": "code",
   "execution_count": 3,
   "id": "0f4810f5",
   "metadata": {},
   "outputs": [
    {
     "name": "stdout",
     "output_type": "stream",
     "text": [
      " * sqlite://\n",
      "Done.\n"
     ]
    },
    {
     "data": {
      "text/html": [
       "<table>\n",
       "    <tr>\n",
       "        <th>team_id</th>\n",
       "        <th>team_name</th>\n",
       "        <th>TOTAL_POINTS</th>\n",
       "    </tr>\n",
       "    <tr>\n",
       "        <td>20</td>\n",
       "        <td>Never</td>\n",
       "        <td>4</td>\n",
       "    </tr>\n",
       "    <tr>\n",
       "        <td>50</td>\n",
       "        <td>Gonna</td>\n",
       "        <td>4</td>\n",
       "    </tr>\n",
       "    <tr>\n",
       "        <td>10</td>\n",
       "        <td>Give</td>\n",
       "        <td>3</td>\n",
       "    </tr>\n",
       "    <tr>\n",
       "        <td>30</td>\n",
       "        <td>You</td>\n",
       "        <td>3</td>\n",
       "    </tr>\n",
       "    <tr>\n",
       "        <td>40</td>\n",
       "        <td>Up</td>\n",
       "        <td>0</td>\n",
       "    </tr>\n",
       "</table>"
      ],
      "text/plain": [
       "[(20, 'Never', 4),\n",
       " (50, 'Gonna', 4),\n",
       " (10, 'Give', 3),\n",
       " (30, 'You', 3),\n",
       " (40, 'Up', 0)]"
      ]
     },
     "execution_count": 3,
     "metadata": {},
     "output_type": "execute_result"
    }
   ],
   "source": [
    "%%sql\n",
    "WITH cteHostPoints AS (SELECT HOST_TEAM AS TEAM,\n",
    "                              CASE\n",
    "                                WHEN HOST_GOALS > GUEST_GOALS THEN 3\n",
    "                                WHEN HOST_GOALS = GUEST_GOALS THEN 1\n",
    "                                ELSE 0\n",
    "                              END AS POINTS\n",
    "                         FROM MATCHES),\n",
    "     cteGuestPoints AS (SELECT GUEST_TEAM AS TEAM,\n",
    "                               CASE\n",
    "                                 WHEN GUEST_GOALS > HOST_GOALS THEN 3\n",
    "                                 WHEN GUEST_GOALS = HOST_GOALS THEN 1\n",
    "                                 ELSE 0\n",
    "                               END AS POINTS\n",
    "                          FROM MATCHES),\n",
    "     cteAllPoints AS (SELECT TEAM, POINTS FROM cteHostPoints\n",
    "                      UNION ALL\n",
    "                      SELECT TEAM, POINTS FROM cteGuestPoints)\n",
    "SELECT t.TEAM_ID, t.TEAM_NAME, COALESCE(SUM(ap.POINTS), 0) AS TOTAL_POINTS\n",
    "  FROM TEAMS t\n",
    "  LEFT OUTER JOIN cteAllPoints ap\n",
    "    ON ap.TEAM = t.TEAM_ID\n",
    "  GROUP BY t.TEAM_ID, t.TEAM_NAME\n",
    "  ORDER BY COALESCE(SUM(POINTS), 0) DESC, t.TEAM_ID"
   ]
  }
 ],
 "metadata": {
  "kernelspec": {
   "display_name": "Python 3 (ipykernel)",
   "language": "python",
   "name": "python3"
  },
  "language_info": {
   "codemirror_mode": {
    "name": "ipython",
    "version": 3
   },
   "file_extension": ".py",
   "mimetype": "text/x-python",
   "name": "python",
   "nbconvert_exporter": "python",
   "pygments_lexer": "ipython3",
   "version": "3.7.6"
  }
 },
 "nbformat": 4,
 "nbformat_minor": 5
}
